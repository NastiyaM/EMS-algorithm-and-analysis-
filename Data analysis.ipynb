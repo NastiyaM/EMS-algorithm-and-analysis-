{
 "cells": [
  {
   "cell_type": "code",
   "execution_count": 4,
   "id": "6057c2e2",
   "metadata": {},
   "outputs": [],
   "source": [
    "import matplotlib.pyplot as plt\n",
    "from pathlib import Path\n",
    "import numpy as np        \n",
    "import time\n",
    "import pandas as pd\n",
    "import plotly.express as px\n",
    "import os\n",
    "from sklearn.metrics import *\n",
    "import seaborn as sns"
   ]
  },
  {
   "cell_type": "code",
   "execution_count": null,
   "id": "739a6fd7",
   "metadata": {},
   "outputs": [],
   "source": [
    "building_data = pd.read_csv('/content/Building_1.csv')\n",
    "building_data.head()"
   ]
  },
  {
   "cell_type": "code",
   "execution_count": null,
   "id": "027d0def",
   "metadata": {},
   "outputs": [],
   "source": [
    "solar_generation = pd.read_csv('/content/solar_generation_1kW.csv')\n",
    "solar_generation.head()"
   ]
  },
  {
   "cell_type": "code",
   "execution_count": null,
   "id": "9ce6e5bb",
   "metadata": {},
   "outputs": [],
   "source": [
    "building_data['Solar Generation [W/kW]'] = list(solar_generation['Hourly Data: AC inverter power (W)'])"
   ]
  },
  {
   "cell_type": "code",
   "execution_count": null,
   "id": "929ee11a",
   "metadata": {},
   "outputs": [],
   "source": [
    "display(building_data.describe(include='all'))"
   ]
  },
  {
   "cell_type": "code",
   "execution_count": null,
   "id": "ef525ced",
   "metadata": {},
   "outputs": [],
   "source": [
    "df = pd.DataFrame({'year': [2015]*8760,\n",
    "                   'month': building_data.Month,\n",
    "                   'day': building_data['Day Type'],\n",
    "                   'hour':building_data.Hour})\n",
    "building_data['Timestamp'] = pd.to_datetime(df)"
   ]
  },
  {
   "cell_type": "code",
   "execution_count": null,
   "id": "81e16b8a",
   "metadata": {},
   "outputs": [],
   "source": [
    "building_data.rename(columns = {'Hour':'Час', 'Equipment Electric Power [kWh]':'Электроэнергия оборудования [кВтч]',\"Month\":'Месяц'}, inplace = True )\n",
    "building_data.rename(columns = {'DHW Heating [kWh]':'Нагрузка на отопления [кВтч]'}, inplace = True )\n",
    "building_data.rename(columns = {'Cooling Load [kWh]':'Нагрузка на охлаждение [кВтч]'}, inplace = True )\n",
    "building_data.rename(columns = {'Solar Generation [W/kW]':'Выработка солнечной энергии [Вт/кВт]'}, inplace = True )"
   ]
  },
  {
   "cell_type": "code",
   "execution_count": null,
   "id": "73d448d7",
   "metadata": {},
   "outputs": [],
   "source": [
    "new_df = weather_data.join(pricing_data,how = 'left', lsuffix='left', rsuffix='right').join(building_data,how = 'left', lsuffix='left', rsuffix='right')"
   ]
  },
  {
   "cell_type": "code",
   "execution_count": null,
   "id": "7c4f3b47",
   "metadata": {},
   "outputs": [],
   "source": [
    "new_df"
   ]
  }
 ],
 "metadata": {
  "kernelspec": {
   "display_name": "Python 3",
   "language": "python",
   "name": "python3"
  },
  "language_info": {
   "codemirror_mode": {
    "name": "ipython",
    "version": 3
   },
   "file_extension": ".py",
   "mimetype": "text/x-python",
   "name": "python",
   "nbconvert_exporter": "python",
   "pygments_lexer": "ipython3",
   "version": "3.8.16"
  }
 },
 "nbformat": 4,
 "nbformat_minor": 5
}
