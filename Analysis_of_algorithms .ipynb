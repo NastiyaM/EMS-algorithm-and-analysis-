{
 "cells": [
  {
   "cell_type": "code",
   "execution_count": 211,
   "id": "86248460",
   "metadata": {},
   "outputs": [],
   "source": [
    "import seaborn as sns\n",
    "import matplotlib.pyplot as plt\n",
    "import pandas as pd\n",
    "import numpy as np\n",
    "import plotly.express as px\n",
    "import plotly.offline as pyo\n",
    "import plotly.graph_objs as go"
   ]
  },
  {
   "cell_type": "code",
   "execution_count": 212,
   "id": "4766a346",
   "metadata": {},
   "outputs": [],
   "source": [
    "import plotly.io as pio\n",
    "pio.renderers.default='notebook'"
   ]
  },
  {
   "cell_type": "code",
   "execution_count": 213,
   "id": "d661143a",
   "metadata": {},
   "outputs": [],
   "source": [
    "import plotly.graph_objects as go\n",
    "\n",
    "pio.templates[\"myname\"] = go.layout.Template(\n",
    "    layout=go.Layout(\n",
    "        colorway=['rgb(103,0,31)', 'rgb(178,24,43)', 'rgb(214,96,77)', 'rgb(244,165,130)', 'rgb(253,219,199)',\n",
    "                  'rgb(186,186,186)', 'rgb(135,135,135)', 'rgb(77,77,77)', 'rgb(26,26,26)']\n",
    "    ))\n",
    "pio.templates.default = 'myname'\n",
    "#template = [\"plotly\", \"plotly_white\", \"plotly_dark\", \"ggplot2\", \"seaborn\", \"simple_white\", \"none\"]\n",
    "template = \"none\""
   ]
  },
  {
   "cell_type": "code",
   "execution_count": 214,
   "id": "23593142",
   "metadata": {},
   "outputs": [],
   "source": [
    "results_RBC = pd.read_csv('milp/results_RBC.csv') \n",
    "results_RBC['method'] = ['RBC']*len(results_RBC)\n",
    "sim_results_RBC = pd.read_csv('milp/sim_results_RBC.csv')\n",
    "sim_results_RBC['method'] = ['RBC']*len(sim_results_RBC)\n",
    "results = pd.read_csv('milp/results_r_1.csv') \n",
    "results['method'] = ['MILP_R_1']*len(results)\n",
    "sim_results  = pd.read_csv('milp/sim_results_r_1.csv')\n",
    "sim_results ['method'] = ['MILP_R_1']*len(sim_results )\n",
    "results_RL = pd.read_csv('milp/results_RL.csv') \n",
    "results_RL['method'] = ['RL']*len(results_RL)\n",
    "sim_results_RL = pd.read_csv('milp/sim_results_RL.csv')\n",
    "sim_results_RL['method'] = ['RL']*len(sim_results_RL)"
   ]
  },
  {
   "cell_type": "code",
   "execution_count": 307,
   "id": "54f17562",
   "metadata": {},
   "outputs": [],
   "source": [
    "df1 =  pd.merge(results_RBC, sim_results_RBC)\n",
    "df2 =  pd.merge(results, sim_results)\n",
    "df3 =  pd.merge(results_RL, sim_results_RL)"
   ]
  },
  {
   "cell_type": "code",
   "execution_count": 308,
   "id": "321a22d7",
   "metadata": {},
   "outputs": [],
   "source": [
    "a = np.insert(np.array(df1['electrical_storage_soc']),0,0)\n",
    "a1 =a[1:]\n",
    "a = a[:-1]\n",
    "df1['electrical_storage'] = a - a1\n",
    "\n",
    "df1['electric_consumption']=-df1[['electric_consumption_cooling',\n",
    "                                  'electric_consumption_dhw',\n",
    "                                  'electric_consumption_cooling_storage',\n",
    "                                  'electric_consumption_dhw_storage',\n",
    "                                  'electrical_storage_electric_consumption',\n",
    "                                  'non_shiftable_load']].sum(axis=1)\n",
    "df1['PGU'] = -df1[['electric_consumption','solar_gen','net_electric_consumption','electrical_storage']].sum(axis=1)\n",
    "df1.loc[(df1.PGU < 0), ('PGU')] = 0\n",
    "df1['net_electric_consumption'] = df1['net_electric_consumption']-df1[['electric_consumption','solar_gen','net_electric_consumption','electrical_storage','PGU']].sum(axis=1)"
   ]
  },
  {
   "cell_type": "code",
   "execution_count": 309,
   "id": "0acd8ecf",
   "metadata": {},
   "outputs": [],
   "source": [
    "df1['dhw_consumption'] = -df1['dhw_demand']\n",
    "df1['PGU_TERMAL'] = df1['dhw_heating_device_to_building'] + df1['PGU']/10#df1['dhw_heating_device_to_building']\n",
    "a = np.insert(np.array(df1['dhw_storage_soc']),0,0)\n",
    "a1 =a[1:]\n",
    "a = a[:-1]\n",
    "df1['termal_storage'] = a - a1\n",
    "df1['Boiler'] = -df1[['dhw_consumption','PGU_TERMAL','termal_storage']].sum(axis=1)\n",
    "df1.loc[(df1.Boiler < 0), ('Boiler')] = 0"
   ]
  },
  {
   "cell_type": "code",
   "execution_count": 310,
   "id": "05f1f3bc",
   "metadata": {},
   "outputs": [],
   "source": [
    "k= 24*17"
   ]
  },
  {
   "cell_type": "code",
   "execution_count": 311,
   "id": "102301e3",
   "metadata": {},
   "outputs": [
    {
     "data": {
      "text/html": [
       "<div>                            <div id=\"c93a8be7-e19c-44ba-8291-a944df1fcd1a\" class=\"plotly-graph-div\" style=\"height:500px; width:900px;\"></div>            <script type=\"text/javascript\">                require([\"plotly\"], function(Plotly) {                    window.PLOTLYENV=window.PLOTLYENV || {};                                    if (document.getElementById(\"c93a8be7-e19c-44ba-8291-a944df1fcd1a\")) {                    Plotly.newPlot(                        \"c93a8be7-e19c-44ba-8291-a944df1fcd1a\",                        [{\"alignmentgroup\":\"True\",\"hovertemplate\":\"variable=electric_consumption<br>index=%{x}<br>value=%{y}<extra></extra>\",\"legendgroup\":\"electric_consumption\",\"marker\":{\"color\":\"#1F77B4\",\"pattern\":{\"shape\":\"\"}},\"name\":\"\\u044d\\u043b\\u0435\\u043a\\u0442\\u0440\\u043e\\u043f\\u043e\\u0442\\u0440\\u0435\\u0431\\u043b\\u0435\\u043d\\u0438\\u0435\",\"offsetgroup\":\"electric_consumption\",\"orientation\":\"v\",\"showlegend\":true,\"textposition\":\"auto\",\"x\":[408,409,410,411,412,413,414,415,416,417,418,419,420,421,422,423,424,425,426,427,428,429,430,431],\"xaxis\":\"x\",\"y\":[-15.461777777777773,-15.129999999999999,-15.040000000000003,-15.839999999999998,-15.939999999999998,-16.47,-25.304444444444442,-32.17666666666666,-22.590000000000003,-26.03933333333333,-24.618222222222222,-27.785725350444448,-18.28281318333333,-14.598459222222225,-10.858955760000004,-10.665047711111114,-11.599010481111112,-10.645555555555553,-7.585555555555556,-11.599999999999994,-11.6,-24.039,-20.204,-19.984],\"yaxis\":\"y\",\"type\":\"bar\"},{\"alignmentgroup\":\"True\",\"hovertemplate\":\"variable=solar_gen<br>index=%{x}<br>value=%{y}<extra></extra>\",\"legendgroup\":\"solar_gen\",\"marker\":{\"color\":\"#FF7F0E\",\"pattern\":{\"shape\":\"\"}},\"name\":\"\\u043f\\u0440\\u043e\\u0438\\u0437\\u0432\\u043e\\u0434\\u0441\\u0442\\u0432\\u043e \\u0441\\u043e\\u043b\\u043d\\u0435\\u0447\\u043d\\u043e\\u0439 \\u044d\\u043d\\u0435\\u0440\\u0433\\u0438\\u0438\",\"offsetgroup\":\"solar_gen\",\"orientation\":\"v\",\"showlegend\":true,\"textposition\":\"auto\",\"x\":[408,409,410,411,412,413,414,415,416,417,418,419,420,421,422,423,424,425,426,427,428,429,430,431],\"xaxis\":\"x\",\"y\":[0.0,0.0,0.0,0.0,0.0,0.0,0.0,0.0,28.74876,54.42564,69.30192,78.49344,81.21995999999999,62.82599999999999,53.65824,35.46792,15.81192,2.118264,0.0,0.0,0.0,0.0,0.0,0.0],\"yaxis\":\"y\",\"type\":\"bar\"},{\"alignmentgroup\":\"True\",\"hovertemplate\":\"variable=net_electric_consumption<br>index=%{x}<br>value=%{y}<extra></extra>\",\"legendgroup\":\"net_electric_consumption\",\"marker\":{\"color\":\"#2CA02C\",\"pattern\":{\"shape\":\"\"}},\"name\":\"\\u0441\\u0435\\u0442\\u0435\\u0432\\u043e\\u0435 \\u044d\\u043b\\u0435\\u043a\\u0442\\u0440\\u043e\\u043f\\u043e\\u0442\\u0440\\u0435\\u0431\\u043b\\u0435\\u043d\\u0438\\u0435\",\"offsetgroup\":\"net_electric_consumption\",\"orientation\":\"v\",\"showlegend\":true,\"textposition\":\"auto\",\"x\":[408,409,410,411,412,413,414,415,416,417,418,419,420,421,422,423,424,425,426,427,428,429,430,431],\"xaxis\":\"x\",\"y\":[14.7009,15.13,15.04,15.84,15.94,16.47,25.3044,32.1767,-11.558759999999996,-33.78630666666666,-50.08369777777777,-56.10771464955556,-68.33714681666666,-53.62754077777777,-48.19928423999999,-30.202872288888884,-9.612909518888888,3.127291555555554,2.185555555555556,11.599999999999989,11.6,20.5195,18.602,18.382],\"yaxis\":\"y\",\"type\":\"bar\"},{\"alignmentgroup\":\"True\",\"hovertemplate\":\"variable=electrical_storage<br>index=%{x}<br>value=%{y}<extra></extra>\",\"legendgroup\":\"electrical_storage\",\"marker\":{\"color\":\"#D62728\",\"pattern\":{\"shape\":\"\"}},\"name\":\"\\u043c\\u043e\\u0449\\u043d\\u043e\\u0441\\u0442\\u044c \\u044d\\u043b\\u0435\\u043a\\u0442\\u0440\\u0438\\u0447\\u0435\\u0441\\u043a\\u043e\\u0433\\u043e \\u043d\\u0430\\u043a\\u043e\\u043f\\u0438\\u0442\\u0435\\u043b\\u044f\",\"offsetgroup\":\"electrical_storage\",\"orientation\":\"v\",\"showlegend\":true,\"textposition\":\"auto\",\"x\":[408,409,410,411,412,413,414,415,416,417,418,419,420,421,422,423,424,425,426,427,428,429,430,431],\"xaxis\":\"x\",\"y\":[-5.400000000000002,-5.399999999999999,-5.399999999999999,-5.399999999999999,-5.400000000000006,-5.399999999999999,-5.3999999999999915,-5.399999999999999,5.399999999999999,5.3999999999999915,5.399999999999999,5.400000000000006,5.399999999999999,5.399999999999999,5.399999999999999,5.399999999999999,5.399999999999999,5.3999999999999995,5.3999999999999995,5.3290705182007506e-15,0.0,-5.4,-5.4,-5.399999999999999],\"yaxis\":\"y\",\"type\":\"bar\"},{\"alignmentgroup\":\"True\",\"hovertemplate\":\"variable=PGU<br>index=%{x}<br>value=%{y}<extra></extra>\",\"legendgroup\":\"PGU\",\"marker\":{\"color\":\"#9467BD\",\"pattern\":{\"shape\":\"\"}},\"name\":\"\\u044d\\u043b\\u0435\\u043a\\u0442\\u0440\\u043e\\u044d\\u043d\\u0435\\u0440\\u0433\\u0438\\u044f \\u043a\\u043e\\u0433\\u0435\\u043d\\u0435\\u0440\\u0430\\u0446\\u0438\\u0438\",\"offsetgroup\":\"PGU\",\"orientation\":\"v\",\"showlegend\":true,\"textposition\":\"auto\",\"x\":[408,409,410,411,412,413,414,415,416,417,418,419,420,421,422,423,424,425,426,427,428,429,430,431],\"xaxis\":\"x\",\"y\":[6.160877777777774,5.399999999999997,5.400000000000002,5.399999999999997,5.400000000000004,5.399999999999999,5.400044444444433,5.399966666666664,0.0,0.0,0.0,0.0,0.0,0.0,0.0,0.0,0.0,0.0,0.0,0.0,-0.0,8.919500000000001,7.002000000000001,7.001999999999999],\"yaxis\":\"y\",\"type\":\"bar\"}],                        {\"template\":{\"data\":{\"scatter\":[{\"type\":\"scatter\"}]}},\"xaxis\":{\"anchor\":\"y\",\"domain\":[0.0,1.0],\"title\":{\"text\":\"index\"}},\"yaxis\":{\"anchor\":\"x\",\"domain\":[0.0,1.0],\"title\":{\"text\":\"value\"}},\"legend\":{\"title\":{\"text\":\"variable\"},\"tracegroupgap\":0},\"margin\":{\"t\":60},\"barmode\":\"relative\",\"width\":900,\"height\":500},                        {\"responsive\": true}                    ).then(function(){\n",
       "                            \n",
       "var gd = document.getElementById('c93a8be7-e19c-44ba-8291-a944df1fcd1a');\n",
       "var x = new MutationObserver(function (mutations, observer) {{\n",
       "        var display = window.getComputedStyle(gd).display;\n",
       "        if (!display || display === 'none') {{\n",
       "            console.log([gd, 'removed!']);\n",
       "            Plotly.purge(gd);\n",
       "            observer.disconnect();\n",
       "        }}\n",
       "}});\n",
       "\n",
       "// Listen for the removal of the full notebook cells\n",
       "var notebookContainer = gd.closest('#notebook-container');\n",
       "if (notebookContainer) {{\n",
       "    x.observe(notebookContainer, {childList: true});\n",
       "}}\n",
       "\n",
       "// Listen for the clearing of the current output cell\n",
       "var outputEl = gd.closest('.output');\n",
       "if (outputEl) {{\n",
       "    x.observe(outputEl, {childList: true});\n",
       "}}\n",
       "\n",
       "                        })                };                });            </script>        </div>"
      ]
     },
     "metadata": {},
     "output_type": "display_data"
    }
   ],
   "source": [
    "dat = df1[df1.method == 'RBC'][['electric_consumption',\n",
    "                                'solar_gen','net_electric_consumption','electrical_storage','PGU']][k:k+24]\n",
    "fig = px.bar(data_frame=dat,template=template)\n",
    "fig.update_layout(width=900, height=500, barmode=\"relative\")\n",
    "newnames = {'electric_consumption':'электропотребление','solar_gen':'производство солнечной энергии',\n",
    "           'net_electric_consumption':'сетевое электропотребление',\n",
    "            'electrical_storage':'мощность электрического накопителя','PGU':'электроэнергия когенерации'}\n",
    "fig.for_each_trace(lambda t: t.update(name = newnames[t.name]))"
   ]
  },
  {
   "cell_type": "code",
   "execution_count": 312,
   "id": "41c39179",
   "metadata": {},
   "outputs": [
    {
     "data": {
      "text/html": [
       "<div>                            <div id=\"72f2b810-8e34-4463-bdad-677415a58881\" class=\"plotly-graph-div\" style=\"height:500px; width:900px;\"></div>            <script type=\"text/javascript\">                require([\"plotly\"], function(Plotly) {                    window.PLOTLYENV=window.PLOTLYENV || {};                                    if (document.getElementById(\"72f2b810-8e34-4463-bdad-677415a58881\")) {                    Plotly.newPlot(                        \"72f2b810-8e34-4463-bdad-677415a58881\",                        [{\"alignmentgroup\":\"True\",\"hovertemplate\":\"variable=dhw_consumption<br>index=%{x}<br>value=%{y}<extra></extra>\",\"legendgroup\":\"dhw_consumption\",\"marker\":{\"color\":\"#1F77B4\",\"pattern\":{\"shape\":\"\"}},\"name\":\"\\u0442\\u0435\\u043f\\u043b\\u043e\\u043f\\u043e\\u0442\\u0440\\u0435\\u0431\\u043b\\u0435\\u043d\\u0438\\u044f\",\"offsetgroup\":\"dhw_consumption\",\"orientation\":\"v\",\"showlegend\":true,\"textposition\":\"auto\",\"x\":[408,409,410,411,412,413,414,415,416,417,418,419,420,421,422,423,424,425,426,427,428,429,430,431],\"xaxis\":\"x\",\"y\":[-0.0,-0.0,-0.0,-0.0,-0.0,-0.0,-0.67,-1.05,-1.44,-2.01,-1.82,-2.2,-1.92,-1.82,-1.44,-1.25,-1.34,-0.67,-0.67,-0.0,-0.0,-0.0,-0.0,-0.0],\"yaxis\":\"y\",\"type\":\"bar\"},{\"alignmentgroup\":\"True\",\"hovertemplate\":\"variable=PGU_TERMAL<br>index=%{x}<br>value=%{y}<extra></extra>\",\"legendgroup\":\"PGU_TERMAL\",\"marker\":{\"color\":\"#FF7F0E\",\"pattern\":{\"shape\":\"\"}},\"name\":\"\\u0442\\u0435\\u043f\\u043b\\u043e\\u044d\\u043d\\u0435\\u0440\\u0433\\u0438\\u044f \\u043a\\u043e\\u0433\\u0435\\u043d\\u0435\\u0440\\u0430\\u0446\\u0438\\u0438\",\"offsetgroup\":\"PGU_TERMAL\",\"orientation\":\"v\",\"showlegend\":true,\"textposition\":\"auto\",\"x\":[408,409,410,411,412,413,414,415,416,417,418,419,420,421,422,423,424,425,426,427,428,429,430,431],\"xaxis\":\"x\",\"y\":[0.6160877777777773,0.5399999999999997,0.5400000000000003,0.5399999999999997,0.5400000000000004,0.5399999999999998,1.2100044444444433,1.5899966666666665,4.440892098500626e-16,0.5681999999999992,0.3781999999999994,0.7581999999999995,0.4781999999999993,0.3782000000000003,-4.440892098500626e-16,0.0,2.220446049250313e-16,1.1102230246251563e-16,1.1102230246251563e-16,0.0,0.0,0.8919500000000001,0.7002,0.7001999999999999],\"yaxis\":\"y\",\"type\":\"bar\"},{\"alignmentgroup\":\"True\",\"hovertemplate\":\"variable=termal_storage<br>index=%{x}<br>value=%{y}<extra></extra>\",\"legendgroup\":\"termal_storage\",\"marker\":{\"color\":\"#2CA02C\",\"pattern\":{\"shape\":\"\"}},\"name\":\"\\u043c\\u043e\\u0449\\u043d\\u043e\\u0441\\u0442\\u044c \\u0442\\u0435\\u043f\\u043b\\u043e\\u0432\\u043e\\u0433\\u043e \\u043d\\u0430\\u043a\\u043e\\u043f\\u0438\\u0442\\u0435\\u043b\\u044f\",\"offsetgroup\":\"termal_storage\",\"orientation\":\"v\",\"showlegend\":true,\"textposition\":\"auto\",\"x\":[408,409,410,411,412,413,414,415,416,417,418,419,420,421,422,423,424,425,426,427,428,429,430,431],\"xaxis\":\"x\",\"y\":[-0.6847999999999992,0.0,0.0,0.0,0.0,0.0,0.0,0.0,1.4399999999999995,1.4418000000000006,1.4417999999999989,1.4418000000000024,1.4418000000000006,1.4417999999999997,1.4400000000000004,1.25,1.3400000000000003,0.6699999999999995,0.6699999999999999,0.0,0.0,-1.4417999999999997,-1.4417999999999997,-1.4417999999999997],\"yaxis\":\"y\",\"type\":\"bar\"},{\"alignmentgroup\":\"True\",\"hovertemplate\":\"variable=Boiler<br>index=%{x}<br>value=%{y}<extra></extra>\",\"legendgroup\":\"Boiler\",\"marker\":{\"color\":\"#D62728\",\"pattern\":{\"shape\":\"\"}},\"name\":\"\\u0431\\u043e\\u0439\\u043b\\u0435\\u0440\",\"offsetgroup\":\"Boiler\",\"orientation\":\"v\",\"showlegend\":true,\"textposition\":\"auto\",\"x\":[408,409,410,411,412,413,414,415,416,417,418,419,420,421,422,423,424,425,426,427,428,429,430,431],\"xaxis\":\"x\",\"y\":[0.06871222222222184,0.0,0.0,0.0,0.0,0.0,0.0,0.0,-0.0,-0.0,1.7763568394002505e-15,0.0,-0.0,-0.0,-0.0,-0.0,0.0,4.440892098500626e-16,-0.0,-0.0,-0.0,0.5498499999999996,0.7415999999999997,0.7415999999999998],\"yaxis\":\"y\",\"type\":\"bar\"}],                        {\"template\":{\"data\":{\"scatter\":[{\"type\":\"scatter\"}]}},\"xaxis\":{\"anchor\":\"y\",\"domain\":[0.0,1.0],\"title\":{\"text\":\"index\"}},\"yaxis\":{\"anchor\":\"x\",\"domain\":[0.0,1.0],\"title\":{\"text\":\"value\"}},\"legend\":{\"title\":{\"text\":\"variable\"},\"tracegroupgap\":0},\"margin\":{\"t\":60},\"barmode\":\"relative\",\"width\":900,\"height\":500},                        {\"responsive\": true}                    ).then(function(){\n",
       "                            \n",
       "var gd = document.getElementById('72f2b810-8e34-4463-bdad-677415a58881');\n",
       "var x = new MutationObserver(function (mutations, observer) {{\n",
       "        var display = window.getComputedStyle(gd).display;\n",
       "        if (!display || display === 'none') {{\n",
       "            console.log([gd, 'removed!']);\n",
       "            Plotly.purge(gd);\n",
       "            observer.disconnect();\n",
       "        }}\n",
       "}});\n",
       "\n",
       "// Listen for the removal of the full notebook cells\n",
       "var notebookContainer = gd.closest('#notebook-container');\n",
       "if (notebookContainer) {{\n",
       "    x.observe(notebookContainer, {childList: true});\n",
       "}}\n",
       "\n",
       "// Listen for the clearing of the current output cell\n",
       "var outputEl = gd.closest('.output');\n",
       "if (outputEl) {{\n",
       "    x.observe(outputEl, {childList: true});\n",
       "}}\n",
       "\n",
       "                        })                };                });            </script>        </div>"
      ]
     },
     "metadata": {},
     "output_type": "display_data"
    }
   ],
   "source": [
    "dat = df1[df1.method == 'RBC'][['dhw_consumption','PGU_TERMAL','termal_storage','Boiler']][k:k+24]\n",
    "fig = px.bar(data_frame=dat,template=template)\n",
    "fig.update_layout(width=900, height=500, barmode=\"relative\")\n",
    "newnames = {'dhw_consumption':'теплопотребления','Boiler':'бойлер',\n",
    "           'net_electric_consumption':'сетевое электропотребление',\n",
    "            'termal_storage':'мощность теплового накопителя','PGU_TERMAL':'теплоэнергия когенерации'}\n",
    "fig.for_each_trace(lambda t: t.update(name = newnames[t.name]))"
   ]
  },
  {
   "cell_type": "code",
   "execution_count": 313,
   "id": "4077e3dc",
   "metadata": {},
   "outputs": [
    {
     "data": {
      "text/html": [
       "<div>                            <div id=\"4eeef5bf-a48d-40b2-a09b-256d1becc99d\" class=\"plotly-graph-div\" style=\"height:500px; width:900px;\"></div>            <script type=\"text/javascript\">                require([\"plotly\"], function(Plotly) {                    window.PLOTLYENV=window.PLOTLYENV || {};                                    if (document.getElementById(\"4eeef5bf-a48d-40b2-a09b-256d1becc99d\")) {                    Plotly.newPlot(                        \"4eeef5bf-a48d-40b2-a09b-256d1becc99d\",                        [{\"alignmentgroup\":\"True\",\"hovertemplate\":\"variable=electrical_storage_soc<br>index=%{x}<br>value=%{y}<extra></extra>\",\"legendgroup\":\"electrical_storage_soc\",\"marker\":{\"color\":\"#1F77B4\",\"pattern\":{\"shape\":\"\"}},\"name\":\"\\u0437\\u0430\\u0440\\u044f\\u0434 \\u044d\\u043b\\u0435\\u043a\\u0442\\u0440\\u0438\\u0447\\u0435\\u0441\\u043a\\u043e\\u0433\\u043e \\u043d\\u0430\\u043a\\u043e\\u043f\\u0438\\u0442\\u0435\\u043b\\u044f\",\"offsetgroup\":\"electrical_storage_soc\",\"orientation\":\"v\",\"showlegend\":true,\"textposition\":\"auto\",\"x\":[408,409,410,411,412,413,414,415,416,417,418,419,420,421,422,423,424,425,426,427,428,429,430,431],\"xaxis\":\"x\",\"y\":[21.6,27.0,32.4,37.8,43.2,48.6,53.99999999999999,59.39999999999999,53.99999999999999,48.6,43.2,37.8,32.4,27.0,21.6,16.200000000000003,10.800000000000004,5.400000000000005,5.3290705182007506e-15,0.0,0.0,5.4,10.8,16.2],\"yaxis\":\"y\",\"type\":\"bar\"}],                        {\"template\":{\"data\":{\"scatter\":[{\"type\":\"scatter\"}]}},\"xaxis\":{\"anchor\":\"y\",\"domain\":[0.0,1.0],\"title\":{\"text\":\"index\"}},\"yaxis\":{\"anchor\":\"x\",\"domain\":[0.0,1.0],\"title\":{\"text\":\"value\"}},\"legend\":{\"title\":{\"text\":\"variable\"},\"tracegroupgap\":0},\"margin\":{\"t\":60},\"barmode\":\"relative\",\"width\":900,\"height\":500},                        {\"responsive\": true}                    ).then(function(){\n",
       "                            \n",
       "var gd = document.getElementById('4eeef5bf-a48d-40b2-a09b-256d1becc99d');\n",
       "var x = new MutationObserver(function (mutations, observer) {{\n",
       "        var display = window.getComputedStyle(gd).display;\n",
       "        if (!display || display === 'none') {{\n",
       "            console.log([gd, 'removed!']);\n",
       "            Plotly.purge(gd);\n",
       "            observer.disconnect();\n",
       "        }}\n",
       "}});\n",
       "\n",
       "// Listen for the removal of the full notebook cells\n",
       "var notebookContainer = gd.closest('#notebook-container');\n",
       "if (notebookContainer) {{\n",
       "    x.observe(notebookContainer, {childList: true});\n",
       "}}\n",
       "\n",
       "// Listen for the clearing of the current output cell\n",
       "var outputEl = gd.closest('.output');\n",
       "if (outputEl) {{\n",
       "    x.observe(outputEl, {childList: true});\n",
       "}}\n",
       "\n",
       "                        })                };                });            </script>        </div>"
      ]
     },
     "metadata": {},
     "output_type": "display_data"
    }
   ],
   "source": [
    "dat = df1[df1.method == 'RBC'][['electrical_storage_soc']][k:k+24]\n",
    "fig = px.bar(data_frame=dat,template=template)\n",
    "fig.update_layout(width=900, height=500, barmode=\"relative\")\n",
    "newnames = {'electrical_storage_soc':'заряд электрического накопителя'}\n",
    "fig.for_each_trace(lambda t: t.update(name = newnames[t.name]))"
   ]
  },
  {
   "cell_type": "code",
   "execution_count": 314,
   "id": "0b69bf48",
   "metadata": {},
   "outputs": [
    {
     "data": {
      "text/html": [
       "<div>                            <div id=\"8ad71777-d90b-4055-bf37-cad259a2d85d\" class=\"plotly-graph-div\" style=\"height:500px; width:900px;\"></div>            <script type=\"text/javascript\">                require([\"plotly\"], function(Plotly) {                    window.PLOTLYENV=window.PLOTLYENV || {};                                    if (document.getElementById(\"8ad71777-d90b-4055-bf37-cad259a2d85d\")) {                    Plotly.newPlot(                        \"8ad71777-d90b-4055-bf37-cad259a2d85d\",                        [{\"alignmentgroup\":\"True\",\"hovertemplate\":\"variable=dhw_storage_soc<br>index=%{x}<br>value=%{y}<extra></extra>\",\"legendgroup\":\"dhw_storage_soc\",\"marker\":{\"color\":\"#1F77B4\",\"pattern\":{\"shape\":\"\"}},\"name\":\"\\u0437\\u0430\\u0440\\u044f\\u0434 \\u0442\\u0435\\u043f\\u043b\\u043e\\u0432\\u043e\\u0433\\u043e \\u043d\\u0430\\u043a\\u043e\\u043f\\u0438\\u0442\\u0435\\u043b\\u044f\",\"offsetgroup\":\"dhw_storage_soc\",\"orientation\":\"v\",\"showlegend\":true,\"textposition\":\"auto\",\"x\":[408,409,410,411,412,413,414,415,416,417,418,419,420,421,422,423,424,425,426,427,428,429,430,431],\"xaxis\":\"x\",\"y\":[16.02,16.02,16.02,16.02,16.02,16.02,16.02,16.02,14.58,13.1382,11.6964,10.254599999999998,8.812799999999998,7.370999999999998,5.930999999999997,4.680999999999997,3.340999999999997,2.6709999999999976,2.0009999999999977,2.0009999999999977,2.0009999999999977,3.4427999999999974,4.884599999999997,6.326399999999997],\"yaxis\":\"y\",\"type\":\"bar\"}],                        {\"template\":{\"data\":{\"scatter\":[{\"type\":\"scatter\"}]}},\"xaxis\":{\"anchor\":\"y\",\"domain\":[0.0,1.0],\"title\":{\"text\":\"index\"}},\"yaxis\":{\"anchor\":\"x\",\"domain\":[0.0,1.0],\"title\":{\"text\":\"value\"}},\"legend\":{\"title\":{\"text\":\"variable\"},\"tracegroupgap\":0},\"margin\":{\"t\":60},\"barmode\":\"relative\",\"width\":900,\"height\":500},                        {\"responsive\": true}                    ).then(function(){\n",
       "                            \n",
       "var gd = document.getElementById('8ad71777-d90b-4055-bf37-cad259a2d85d');\n",
       "var x = new MutationObserver(function (mutations, observer) {{\n",
       "        var display = window.getComputedStyle(gd).display;\n",
       "        if (!display || display === 'none') {{\n",
       "            console.log([gd, 'removed!']);\n",
       "            Plotly.purge(gd);\n",
       "            observer.disconnect();\n",
       "        }}\n",
       "}});\n",
       "\n",
       "// Listen for the removal of the full notebook cells\n",
       "var notebookContainer = gd.closest('#notebook-container');\n",
       "if (notebookContainer) {{\n",
       "    x.observe(notebookContainer, {childList: true});\n",
       "}}\n",
       "\n",
       "// Listen for the clearing of the current output cell\n",
       "var outputEl = gd.closest('.output');\n",
       "if (outputEl) {{\n",
       "    x.observe(outputEl, {childList: true});\n",
       "}}\n",
       "\n",
       "                        })                };                });            </script>        </div>"
      ]
     },
     "metadata": {},
     "output_type": "display_data"
    }
   ],
   "source": [
    "dat = df1[df1.method == 'RBC'][['dhw_storage_soc']][k:k+24]\n",
    "fig = px.bar(data_frame=dat,template=template)\n",
    "fig.update_layout(width=900, height=500, barmode=\"relative\")\n",
    "newnames = {'dhw_storage_soc':'заряд теплового накопителя'}\n",
    "fig.for_each_trace(lambda t: t.update(name = newnames[t.name]))"
   ]
  },
  {
   "cell_type": "code",
   "execution_count": 315,
   "id": "e9c163b4",
   "metadata": {},
   "outputs": [],
   "source": [
    "a = np.insert(np.array(df2['electrical_storage_soc']),0,0)\n",
    "a1 =a[1:]\n",
    "a = a[:-1]\n",
    "df2['electrical_storage'] = a - a1\n",
    "\n",
    "df2['electric_consumption']=-df2[['electric_consumption_cooling',\n",
    "                                  'electric_consumption_dhw',\n",
    "                                  'electric_consumption_cooling_storage',\n",
    "                                  'electric_consumption_dhw_storage',\n",
    "                                  'electrical_storage_electric_consumption',\n",
    "                                  'non_shiftable_load']].sum(axis=1)\n",
    "df2['PGU'] = -df2[['electric_consumption','solar_gen','net_electric_consumption','electrical_storage']].sum(axis=1)\n",
    "df2.loc[(df2.PGU < 0), ('PGU')] = 0\n",
    "df2['net_electric_consumption'] = df2['net_electric_consumption']-df2[['electric_consumption','solar_gen','net_electric_consumption','electrical_storage','PGU']].sum(axis=1)"
   ]
  },
  {
   "cell_type": "code",
   "execution_count": 316,
   "id": "20fb2d1d",
   "metadata": {},
   "outputs": [],
   "source": [
    "df2['dhw_consumption'] = -df2['dhw_demand']\n",
    "df2['PGU_TERMAL'] = df2['dhw_heating_device_to_building']+df2['PGU']/10\n",
    "a = np.insert(np.array(df2['dhw_storage_soc']),0,0)\n",
    "a1 =a[1:]\n",
    "a = a[:-1]\n",
    "df2['termal_storage'] = (a - a1)*3\n",
    "df2['dhw_storage_soc'] = df2['dhw_storage_soc']*3\n",
    "df2['Boiler'] = -df2[['dhw_consumption','PGU_TERMAL','termal_storage']].sum(axis=1)\n",
    "df2.loc[(df2.Boiler < 0), ('Boiler')] = 0"
   ]
  },
  {
   "cell_type": "code",
   "execution_count": 317,
   "id": "5c529bd2",
   "metadata": {},
   "outputs": [],
   "source": [
    "k= 24*15"
   ]
  },
  {
   "cell_type": "code",
   "execution_count": 318,
   "id": "33fbd7af",
   "metadata": {},
   "outputs": [
    {
     "data": {
      "text/html": [
       "<div>                            <div id=\"efa26a50-0a22-4ad5-a987-a016f1849f7b\" class=\"plotly-graph-div\" style=\"height:500px; width:900px;\"></div>            <script type=\"text/javascript\">                require([\"plotly\"], function(Plotly) {                    window.PLOTLYENV=window.PLOTLYENV || {};                                    if (document.getElementById(\"efa26a50-0a22-4ad5-a987-a016f1849f7b\")) {                    Plotly.newPlot(                        \"efa26a50-0a22-4ad5-a987-a016f1849f7b\",                        [{\"alignmentgroup\":\"True\",\"hovertemplate\":\"variable=electric_consumption<br>index=%{x}<br>value=%{y}<extra></extra>\",\"legendgroup\":\"electric_consumption\",\"marker\":{\"color\":\"#1F77B4\",\"pattern\":{\"shape\":\"\"}},\"name\":\"\\u044d\\u043b\\u0435\\u043a\\u0442\\u0440\\u043e\\u043f\\u043e\\u0442\\u0440\\u0435\\u0431\\u043b\\u0435\\u043d\\u0438\\u0435\",\"offsetgroup\":\"electric_consumption\",\"orientation\":\"v\",\"showlegend\":true,\"textposition\":\"auto\",\"x\":[360,361,362,363,364,365,366,367,368,369,370,371,372,373,374,375,376,377,378,379,380,381,382,383],\"xaxis\":\"x\",\"y\":[-8.693803750693329,-12.302446062072434,-12.395917732326119,-13.892427694578334,-16.9383437403249,-10.804168277061745,-13.593224754889299,-28.793261712242668,-50.046136719986244,-50.879065307027204,-63.71368852347419,-71.82213365725178,-71.97320954373622,-59.83443901545647,-42.836321381149,-41.04268545810659,-35.73283803792266,-21.938672672203488,-11.17818328605837,-10.014732806073019,-13.09635079728753,-16.76410511714664,-16.38984892097472,-15.125307227689701],\"yaxis\":\"y\",\"type\":\"bar\"},{\"alignmentgroup\":\"True\",\"hovertemplate\":\"variable=solar_gen<br>index=%{x}<br>value=%{y}<extra></extra>\",\"legendgroup\":\"solar_gen\",\"marker\":{\"color\":\"#FF7F0E\",\"pattern\":{\"shape\":\"\"}},\"name\":\"\\u043f\\u0440\\u043e\\u0438\\u0437\\u0432\\u043e\\u0434\\u0441\\u0442\\u0432\\u043e \\u0441\\u043e\\u043b\\u043d\\u0435\\u0447\\u043d\\u043e\\u0439 \\u044d\\u043d\\u0435\\u0440\\u0433\\u0438\\u0438\",\"offsetgroup\":\"solar_gen\",\"orientation\":\"v\",\"showlegend\":true,\"textposition\":\"auto\",\"x\":[360,361,362,363,364,365,366,367,368,369,370,371,372,373,374,375,376,377,378,379,380,381,382,383],\"xaxis\":\"x\",\"y\":[0.0,0.0,0.0,0.0,0.0,0.0,0.0,0.0,31.10808,55.46748,73.72295999999999,84.01104,87.30444,84.77928,72.97439999999999,54.22668,27.06996,6.077952,0.0,0.0,0.0,0.0,0.0,0.0],\"yaxis\":\"y\",\"type\":\"bar\"},{\"alignmentgroup\":\"True\",\"hovertemplate\":\"variable=net_electric_consumption<br>index=%{x}<br>value=%{y}<extra></extra>\",\"legendgroup\":\"net_electric_consumption\",\"marker\":{\"color\":\"#2CA02C\",\"pattern\":{\"shape\":\"\"}},\"name\":\"\\u0441\\u0435\\u0442\\u0435\\u0432\\u043e\\u0435 \\u044d\\u043b\\u0435\\u043a\\u0442\\u0440\\u043e\\u043f\\u043e\\u0442\\u0440\\u0435\\u0431\\u043b\\u0435\\u043d\\u0438\\u0435\",\"offsetgroup\":\"net_electric_consumption\",\"orientation\":\"v\",\"showlegend\":true,\"textposition\":\"auto\",\"x\":[360,361,362,363,364,365,366,367,368,369,370,371,372,373,374,375,376,377,378,379,380,381,382,383],\"xaxis\":\"x\",\"y\":[4.587575165496466,12.014773955705682,10.781703958929317,13.164643929876537,16.9381,8.217563061036802,9.493655079260009,28.27416659995658,13.832315463192714,-4.7877,-10.202,-12.2385,-14.268,-22.9888,-30.13682985731161,-13.183994541893412,-0.1795815070929443,-4.6302436434434995,-1.187693843136227,-1.6248406306005378,6.4352917541803745,16.3978,16.0173,14.7693],\"yaxis\":\"y\",\"type\":\"bar\"},{\"alignmentgroup\":\"True\",\"hovertemplate\":\"variable=electrical_storage<br>index=%{x}<br>value=%{y}<extra></extra>\",\"legendgroup\":\"electrical_storage\",\"marker\":{\"color\":\"#D62728\",\"pattern\":{\"shape\":\"\"}},\"name\":\"\\u043c\\u043e\\u0449\\u043d\\u043e\\u0441\\u0442\\u044c \\u044d\\u043b\\u0435\\u043a\\u0442\\u0440\\u0438\\u0447\\u0435\\u0441\\u043a\\u043e\\u0433\\u043e \\u043d\\u0430\\u043a\\u043e\\u043f\\u0438\\u0442\\u0435\\u043b\\u044f\",\"offsetgroup\":\"electrical_storage\",\"orientation\":\"v\",\"showlegend\":true,\"textposition\":\"auto\",\"x\":[360,361,362,363,364,365,366,367,368,369,370,371,372,373,374,375,376,377,378,379,380,381,382,383],\"xaxis\":\"x\",\"y\":[4.106228585196863,0.28767210636675244,1.614213773396802,0.7277837647017975,-2.667897653204708,2.5866052160249424,4.09956967562929,0.5190951122860898,5.105741256793528,-2.8861349838942507,-11.14377117594354,-15.2881924666091,-19.633125199291776,-6.952044600189218,-0.0012487615393794727,0.0,8.842459545015608,20.490964315646988,12.365877129194597,11.639573436673556,6.661059043107155,-0.04603654870119598,0.008519744694094195,0.030123193383721502],\"yaxis\":\"y\",\"type\":\"bar\"},{\"alignmentgroup\":\"True\",\"hovertemplate\":\"variable=PGU<br>index=%{x}<br>value=%{y}<extra></extra>\",\"legendgroup\":\"PGU\",\"marker\":{\"color\":\"#9467BD\",\"pattern\":{\"shape\":\"\"}},\"name\":\"\\u044d\\u043b\\u0435\\u043a\\u0442\\u0440\\u043e\\u044d\\u043d\\u0435\\u0440\\u0433\\u0438\\u044f \\u043a\\u043e\\u0433\\u0435\\u043d\\u0435\\u0440\\u0430\\u0446\\u0438\\u0438\",\"offsetgroup\":\"PGU\",\"orientation\":\"v\",\"showlegend\":true,\"textposition\":\"auto\",\"x\":[360,361,362,363,364,365,366,367,368,369,370,371,372,373,374,375,376,377,378,379,380,381,382,383],\"xaxis\":\"x\",\"y\":[0.0,0.0,0.0,0.0,2.668141393529609,0.0,0.0,0.0,0.0,3.085420290921453,11.336499699417743,15.337786123860889,18.569894743027994,4.996003615645687,0.0,0.0,0.0,0.0,0.0,0.0,0.0,0.4123416658478374,0.36402917628062814,0.32588403430598023],\"yaxis\":\"y\",\"type\":\"bar\"}],                        {\"template\":{\"data\":{\"scatter\":[{\"type\":\"scatter\"}]}},\"xaxis\":{\"anchor\":\"y\",\"domain\":[0.0,1.0],\"title\":{\"text\":\"index\"}},\"yaxis\":{\"anchor\":\"x\",\"domain\":[0.0,1.0],\"title\":{\"text\":\"value\"}},\"legend\":{\"title\":{\"text\":\"variable\"},\"tracegroupgap\":0},\"margin\":{\"t\":60},\"barmode\":\"relative\",\"width\":900,\"height\":500},                        {\"responsive\": true}                    ).then(function(){\n",
       "                            \n",
       "var gd = document.getElementById('efa26a50-0a22-4ad5-a987-a016f1849f7b');\n",
       "var x = new MutationObserver(function (mutations, observer) {{\n",
       "        var display = window.getComputedStyle(gd).display;\n",
       "        if (!display || display === 'none') {{\n",
       "            console.log([gd, 'removed!']);\n",
       "            Plotly.purge(gd);\n",
       "            observer.disconnect();\n",
       "        }}\n",
       "}});\n",
       "\n",
       "// Listen for the removal of the full notebook cells\n",
       "var notebookContainer = gd.closest('#notebook-container');\n",
       "if (notebookContainer) {{\n",
       "    x.observe(notebookContainer, {childList: true});\n",
       "}}\n",
       "\n",
       "// Listen for the clearing of the current output cell\n",
       "var outputEl = gd.closest('.output');\n",
       "if (outputEl) {{\n",
       "    x.observe(outputEl, {childList: true});\n",
       "}}\n",
       "\n",
       "                        })                };                });            </script>        </div>"
      ]
     },
     "metadata": {},
     "output_type": "display_data"
    }
   ],
   "source": [
    "dat = df2[df2.method == 'MILP_R_1'][['electric_consumption',\n",
    "                                'solar_gen','net_electric_consumption','electrical_storage','PGU']][k:k+24]\n",
    "fig = px.bar(data_frame=dat,template=template)\n",
    "fig.update_layout(width=900, height=500, barmode=\"relative\")\n",
    "newnames = {'electric_consumption':'электропотребление','solar_gen':'производство солнечной энергии',\n",
    "           'net_electric_consumption':'сетевое электропотребление',\n",
    "            'electrical_storage':'мощность электрического накопителя','PGU':'электроэнергия когенерации'}\n",
    "fig.for_each_trace(lambda t: t.update(name = newnames[t.name]))"
   ]
  },
  {
   "cell_type": "code",
   "execution_count": 319,
   "id": "bc9bf5e5",
   "metadata": {},
   "outputs": [
    {
     "data": {
      "text/html": [
       "<div>                            <div id=\"dcd74a37-06fb-4134-9c3f-4a386688fa56\" class=\"plotly-graph-div\" style=\"height:500px; width:900px;\"></div>            <script type=\"text/javascript\">                require([\"plotly\"], function(Plotly) {                    window.PLOTLYENV=window.PLOTLYENV || {};                                    if (document.getElementById(\"dcd74a37-06fb-4134-9c3f-4a386688fa56\")) {                    Plotly.newPlot(                        \"dcd74a37-06fb-4134-9c3f-4a386688fa56\",                        [{\"alignmentgroup\":\"True\",\"hovertemplate\":\"variable=electrical_storage_soc<br>index=%{x}<br>value=%{y}<extra></extra>\",\"legendgroup\":\"electrical_storage_soc\",\"marker\":{\"color\":\"#1F77B4\",\"pattern\":{\"shape\":\"\"}},\"name\":\"\\u0437\\u0430\\u0440\\u044f\\u0434 \\u044d\\u043b\\u0435\\u043a\\u0442\\u0440\\u0438\\u0447\\u0435\\u0441\\u043a\\u043e\\u0433\\u043e \\u043d\\u0430\\u043a\\u043e\\u043f\\u0438\\u0442\\u0435\\u043b\\u044f\",\"offsetgroup\":\"electrical_storage_soc\",\"orientation\":\"v\",\"showlegend\":true,\"textposition\":\"auto\",\"x\":[360,361,362,363,364,365,366,367,368,369,370,371,372,373,374,375,376,377,378,379,380,381,382,383],\"xaxis\":\"x\",\"y\":[16.36826606452723,16.080593958160478,14.466380184763675,13.738596420061878,16.406494073266586,13.819888857241644,9.720319181612354,9.201224069326264,4.095482812532736,6.9816177964269865,18.125388972370526,33.41358143897963,53.0467066382714,59.99875123846062,60.0,60.0,51.15754045498439,30.666576139337405,18.300699010142807,6.661125573469251,6.65303620959179e-05,0.0461030790632919,0.0375833343691977,0.0074601409854762],\"yaxis\":\"y\",\"type\":\"bar\"}],                        {\"template\":{\"data\":{\"scatter\":[{\"type\":\"scatter\"}]}},\"xaxis\":{\"anchor\":\"y\",\"domain\":[0.0,1.0],\"title\":{\"text\":\"index\"}},\"yaxis\":{\"anchor\":\"x\",\"domain\":[0.0,1.0],\"title\":{\"text\":\"value\"}},\"legend\":{\"title\":{\"text\":\"variable\"},\"tracegroupgap\":0},\"margin\":{\"t\":60},\"barmode\":\"relative\",\"width\":900,\"height\":500},                        {\"responsive\": true}                    ).then(function(){\n",
       "                            \n",
       "var gd = document.getElementById('dcd74a37-06fb-4134-9c3f-4a386688fa56');\n",
       "var x = new MutationObserver(function (mutations, observer) {{\n",
       "        var display = window.getComputedStyle(gd).display;\n",
       "        if (!display || display === 'none') {{\n",
       "            console.log([gd, 'removed!']);\n",
       "            Plotly.purge(gd);\n",
       "            observer.disconnect();\n",
       "        }}\n",
       "}});\n",
       "\n",
       "// Listen for the removal of the full notebook cells\n",
       "var notebookContainer = gd.closest('#notebook-container');\n",
       "if (notebookContainer) {{\n",
       "    x.observe(notebookContainer, {childList: true});\n",
       "}}\n",
       "\n",
       "// Listen for the clearing of the current output cell\n",
       "var outputEl = gd.closest('.output');\n",
       "if (outputEl) {{\n",
       "    x.observe(outputEl, {childList: true});\n",
       "}}\n",
       "\n",
       "                        })                };                });            </script>        </div>"
      ]
     },
     "metadata": {},
     "output_type": "display_data"
    }
   ],
   "source": [
    "dat = df2[df2.method == 'MILP_R_1'][['electrical_storage_soc']][k:k+24]\n",
    "fig = px.bar(data_frame=dat,template=template)\n",
    "fig.update_layout(width=900, height=500, barmode=\"relative\")\n",
    "newnames = {'electrical_storage_soc':'заряд электрического накопителя'}\n",
    "fig.for_each_trace(lambda t: t.update(name = newnames[t.name]))"
   ]
  },
  {
   "cell_type": "code",
   "execution_count": 320,
   "id": "9fbfc28a",
   "metadata": {},
   "outputs": [
    {
     "data": {
      "text/html": [
       "<div>                            <div id=\"43d4b606-71e1-4573-a83c-118a45144d9e\" class=\"plotly-graph-div\" style=\"height:500px; width:900px;\"></div>            <script type=\"text/javascript\">                require([\"plotly\"], function(Plotly) {                    window.PLOTLYENV=window.PLOTLYENV || {};                                    if (document.getElementById(\"43d4b606-71e1-4573-a83c-118a45144d9e\")) {                    Plotly.newPlot(                        \"43d4b606-71e1-4573-a83c-118a45144d9e\",                        [{\"alignmentgroup\":\"True\",\"hovertemplate\":\"variable=dhw_consumption<br>index=%{x}<br>value=%{y}<extra></extra>\",\"legendgroup\":\"dhw_consumption\",\"marker\":{\"color\":\"#1F77B4\",\"pattern\":{\"shape\":\"\"}},\"name\":\"\\u0442\\u0435\\u043f\\u043b\\u043e\\u043f\\u043e\\u0442\\u0440\\u0435\\u0431\\u043b\\u0435\\u043d\\u0438\\u044f\",\"offsetgroup\":\"dhw_consumption\",\"orientation\":\"v\",\"showlegend\":true,\"textposition\":\"auto\",\"x\":[360,361,362,363,364,365,366,367,368,369,370,371,372,373,374,375,376,377,378,379,380,381,382,383],\"xaxis\":\"x\",\"y\":[-0.0,-0.0,-0.0,-0.0,-0.0,-0.0,-0.67,-1.82,-3.35,-3.64,-3.73,-4.43,-5.33,-5.05,-3.18,-3.08,-4.11,-2.43,-1.96,-1.39,-1.58,-0.77,-0.48,-0.48],\"yaxis\":\"y\",\"type\":\"bar\"},{\"alignmentgroup\":\"True\",\"hovertemplate\":\"variable=PGU_TERMAL<br>index=%{x}<br>value=%{y}<extra></extra>\",\"legendgroup\":\"PGU_TERMAL\",\"marker\":{\"color\":\"#FF7F0E\",\"pattern\":{\"shape\":\"\"}},\"name\":\"\\u0442\\u0435\\u043f\\u043b\\u043e\\u044d\\u043d\\u0435\\u0440\\u0433\\u0438\\u044f \\u043a\\u043e\\u0433\\u0435\\u043d\\u0435\\u0440\\u0430\\u0446\\u0438\\u0438\",\"offsetgroup\":\"PGU_TERMAL\",\"orientation\":\"v\",\"showlegend\":true,\"textposition\":\"auto\",\"x\":[360,361,362,363,364,365,366,367,368,369,370,371,372,373,374,375,376,377,378,379,380,381,382,383],\"xaxis\":\"x\",\"y\":[0.0,0.0,0.0,0.0,0.26681413935296094,0.0,0.6692574937333653,1.82,3.3498450895508984,3.9485420290921454,4.863649969941775,5.963778612386088,7.186989474302799,5.549600361564568,3.18,3.08,3.8425835923222182,2.2718924855327165,1.8324729508638355,1.2995598992359594,1.477197583177608,0.7611342593852343,0.4851718071790298,0.48135729091363844],\"yaxis\":\"y\",\"type\":\"bar\"},{\"alignmentgroup\":\"True\",\"hovertemplate\":\"variable=termal_storage<br>index=%{x}<br>value=%{y}<extra></extra>\",\"legendgroup\":\"termal_storage\",\"marker\":{\"color\":\"#2CA02C\",\"pattern\":{\"shape\":\"\"}},\"name\":\"\\u043c\\u043e\\u0449\\u043d\\u043e\\u0441\\u0442\\u044c \\u0442\\u0435\\u043f\\u043b\\u043e\\u0432\\u043e\\u0433\\u043e \\u043d\\u0430\\u043a\\u043e\\u043f\\u0438\\u0442\\u0435\\u043b\\u044f\",\"offsetgroup\":\"termal_storage\",\"orientation\":\"v\",\"showlegend\":true,\"textposition\":\"auto\",\"x\":[360,361,362,363,364,365,366,367,368,369,370,371,372,373,374,375,376,377,378,379,380,381,382,383],\"xaxis\":\"x\",\"y\":[-4.36534517580459e-05,-0.00015952739290187138,-0.0001775327259426,-0.0002854700281805999,-0.0006022176122586,-0.0010442156670285002,0.0022275187999039924,-0.0001817131138225925,0.0004647313473052537,-0.5379559362294908,-0.5203884191663737,-0.3837522938676134,-0.029999999999999527,-0.26273174061078375,-0.6277453914729825,-0.6472648384438899,0.8022492230333446,0.47432254340185065,0.38258114740849325,0.27132030229212206,0.30840725046717565,0.15029972159864854,0.0936933313470987,0.09369333755087877],\"yaxis\":\"y\",\"type\":\"bar\"},{\"alignmentgroup\":\"True\",\"hovertemplate\":\"variable=Boiler<br>index=%{x}<br>value=%{y}<extra></extra>\",\"legendgroup\":\"Boiler\",\"marker\":{\"color\":\"#D62728\",\"pattern\":{\"shape\":\"\"}},\"name\":\"\\u0431\\u043e\\u0439\\u043b\\u0435\\u0440\",\"offsetgroup\":\"Boiler\",\"orientation\":\"v\",\"showlegend\":true,\"textposition\":\"auto\",\"x\":[360,361,362,363,364,365,366,367,368,369,370,371,372,373,374,375,376,377,378,379,380,381,382,383],\"xaxis\":\"x\",\"y\":[4.36534517580459e-05,0.00015952739290187138,0.0001775327259426,0.0002854700281805999,0.0,0.0010442156670285002,0.0,0.0001817131138225925,0.0,0.22941390713734555,0.0,0.0,0.0,0.0,0.6277453914729825,0.6472648384438899,0.0,0.0,0.0,0.0,0.0,0.0,0.0,0.0],\"yaxis\":\"y\",\"type\":\"bar\"}],                        {\"template\":{\"data\":{\"scatter\":[{\"type\":\"scatter\"}]}},\"xaxis\":{\"anchor\":\"y\",\"domain\":[0.0,1.0],\"title\":{\"text\":\"index\"}},\"yaxis\":{\"anchor\":\"x\",\"domain\":[0.0,1.0],\"title\":{\"text\":\"value\"}},\"legend\":{\"title\":{\"text\":\"variable\"},\"tracegroupgap\":0},\"margin\":{\"t\":60},\"barmode\":\"relative\",\"width\":900,\"height\":500},                        {\"responsive\": true}                    ).then(function(){\n",
       "                            \n",
       "var gd = document.getElementById('43d4b606-71e1-4573-a83c-118a45144d9e');\n",
       "var x = new MutationObserver(function (mutations, observer) {{\n",
       "        var display = window.getComputedStyle(gd).display;\n",
       "        if (!display || display === 'none') {{\n",
       "            console.log([gd, 'removed!']);\n",
       "            Plotly.purge(gd);\n",
       "            observer.disconnect();\n",
       "        }}\n",
       "}});\n",
       "\n",
       "// Listen for the removal of the full notebook cells\n",
       "var notebookContainer = gd.closest('#notebook-container');\n",
       "if (notebookContainer) {{\n",
       "    x.observe(notebookContainer, {childList: true});\n",
       "}}\n",
       "\n",
       "// Listen for the clearing of the current output cell\n",
       "var outputEl = gd.closest('.output');\n",
       "if (outputEl) {{\n",
       "    x.observe(outputEl, {childList: true});\n",
       "}}\n",
       "\n",
       "                        })                };                });            </script>        </div>"
      ]
     },
     "metadata": {},
     "output_type": "display_data"
    }
   ],
   "source": [
    "dat = df2[df2.method == 'MILP_R_1'][['dhw_consumption','PGU_TERMAL','termal_storage','Boiler']][k:k+24]\n",
    "fig = px.bar(data_frame=dat,template=template)\n",
    "fig.update_layout(width=900, height=500, barmode=\"relative\")\n",
    "newnames = {'dhw_consumption':'теплопотребления','Boiler':'бойлер',\n",
    "           'net_electric_consumption':'сетевое электропотребление',\n",
    "            'termal_storage':'мощность теплового накопителя','PGU_TERMAL':'теплоэнергия когенерации'}\n",
    "fig.for_each_trace(lambda t: t.update(name = newnames[t.name]))"
   ]
  },
  {
   "cell_type": "code",
   "execution_count": 321,
   "id": "df3174f5",
   "metadata": {},
   "outputs": [
    {
     "data": {
      "text/html": [
       "<div>                            <div id=\"38fd8c10-f8d8-4636-b25f-9d3fa7820f60\" class=\"plotly-graph-div\" style=\"height:500px; width:900px;\"></div>            <script type=\"text/javascript\">                require([\"plotly\"], function(Plotly) {                    window.PLOTLYENV=window.PLOTLYENV || {};                                    if (document.getElementById(\"38fd8c10-f8d8-4636-b25f-9d3fa7820f60\")) {                    Plotly.newPlot(                        \"38fd8c10-f8d8-4636-b25f-9d3fa7820f60\",                        [{\"alignmentgroup\":\"True\",\"hovertemplate\":\"variable=dhw_storage_soc<br>index=%{x}<br>value=%{y}<extra></extra>\",\"legendgroup\":\"dhw_storage_soc\",\"marker\":{\"color\":\"#1F77B4\",\"pattern\":{\"shape\":\"\"}},\"name\":\"\\u0437\\u0430\\u0440\\u044f\\u0434 \\u0442\\u0435\\u043f\\u043b\\u043e\\u0432\\u043e\\u0433\\u043e \\u043d\\u0430\\u043a\\u043e\\u043f\\u0438\\u0442\\u0435\\u043b\\u044f\",\"offsetgroup\":\"dhw_storage_soc\",\"orientation\":\"v\",\"showlegend\":true,\"textposition\":\"auto\",\"x\":[360,361,362,363,364,365,366,367,368,369,370,371,372,373,374,375,376,377,378,379,380,381,382,383],\"xaxis\":\"x\",\"y\":[0.00024988481109732865,0.0004094122039992,0.0005869449299418,0.0008724149581224,0.0014746325703809998,0.0025188482374095002,0.0002913294375055075,0.00047304255132810005,8.311204022846356e-06,0.5379642474335136,1.0583526665998872,1.4421049604675007,1.4721049604675,1.734836701078284,2.3625820925512664,3.009846930995156,2.2075977079618117,1.7332751645599611,1.3506940171514679,1.0793737148593459,0.7709664643921701,0.6206667427935216,0.5269734114464228,0.4332800738955441],\"yaxis\":\"y\",\"type\":\"bar\"}],                        {\"template\":{\"data\":{\"scatter\":[{\"type\":\"scatter\"}]}},\"xaxis\":{\"anchor\":\"y\",\"domain\":[0.0,1.0],\"title\":{\"text\":\"index\"}},\"yaxis\":{\"anchor\":\"x\",\"domain\":[0.0,1.0],\"title\":{\"text\":\"value\"}},\"legend\":{\"title\":{\"text\":\"variable\"},\"tracegroupgap\":0},\"margin\":{\"t\":60},\"barmode\":\"relative\",\"width\":900,\"height\":500},                        {\"responsive\": true}                    ).then(function(){\n",
       "                            \n",
       "var gd = document.getElementById('38fd8c10-f8d8-4636-b25f-9d3fa7820f60');\n",
       "var x = new MutationObserver(function (mutations, observer) {{\n",
       "        var display = window.getComputedStyle(gd).display;\n",
       "        if (!display || display === 'none') {{\n",
       "            console.log([gd, 'removed!']);\n",
       "            Plotly.purge(gd);\n",
       "            observer.disconnect();\n",
       "        }}\n",
       "}});\n",
       "\n",
       "// Listen for the removal of the full notebook cells\n",
       "var notebookContainer = gd.closest('#notebook-container');\n",
       "if (notebookContainer) {{\n",
       "    x.observe(notebookContainer, {childList: true});\n",
       "}}\n",
       "\n",
       "// Listen for the clearing of the current output cell\n",
       "var outputEl = gd.closest('.output');\n",
       "if (outputEl) {{\n",
       "    x.observe(outputEl, {childList: true});\n",
       "}}\n",
       "\n",
       "                        })                };                });            </script>        </div>"
      ]
     },
     "metadata": {},
     "output_type": "display_data"
    }
   ],
   "source": [
    "dat = df2[df2.method == 'MILP_R_1'][['dhw_storage_soc']][k:k+24]\n",
    "fig = px.bar(data_frame=dat,template=template)\n",
    "fig.update_layout(width=900, height=500, barmode=\"relative\")\n",
    "newnames = {'dhw_storage_soc':'заряд теплового накопителя'}\n",
    "fig.for_each_trace(lambda t: t.update(name = newnames[t.name]))"
   ]
  },
  {
   "cell_type": "code",
   "execution_count": 322,
   "id": "f728fd79",
   "metadata": {},
   "outputs": [],
   "source": [
    "a = np.insert(np.array(df3['electrical_storage_soc']),0,0)\n",
    "a1 =a[1:]\n",
    "a = a[:-1]\n",
    "df3['electrical_storage'] = a - a1\n",
    "\n",
    "df3['electric_consumption']=-df3[['electric_consumption_cooling',\n",
    "                                  'electric_consumption_dhw',\n",
    "                                  'electric_consumption_cooling_storage',\n",
    "                                  'electric_consumption_dhw_storage',\n",
    "                                  'electrical_storage_electric_consumption',\n",
    "                                  'non_shiftable_load']].sum(axis=1)\n",
    "df3['PGU'] = -df3[['electric_consumption','solar_gen','net_electric_consumption','electrical_storage']].sum(axis=1)\n",
    "df3.loc[(df3.PGU < 0), ('PGU')] = 0\n",
    "df3['net_electric_consumption'] = df3['net_electric_consumption']-df3[['electric_consumption','solar_gen','net_electric_consumption','electrical_storage','PGU']].sum(axis=1)"
   ]
  },
  {
   "cell_type": "code",
   "execution_count": 262,
   "id": "664e01e0",
   "metadata": {},
   "outputs": [],
   "source": [
    "df3['dhw_consumption'] = -df3['dhw_demand']\n",
    "df3['PGU_TERMAL'] = df3['dhw_heating_device_to_building']+df3['PGU']/10\n",
    "a = np.insert(np.array(df3['dhw_storage_soc']),0,0)\n",
    "a1 =a[1:]\n",
    "a = a[:-1]\n",
    "df3['termal_storage'] = a - a1\n",
    "df3['Boiler'] = -df3[['dhw_consumption','PGU_TERMAL','termal_storage']].sum(axis=1)\n",
    "df3.loc[(df3.Boiler < 0), ('Boiler')] = 0"
   ]
  },
  {
   "cell_type": "code",
   "execution_count": 263,
   "id": "527ac510",
   "metadata": {},
   "outputs": [],
   "source": [
    "k= 24*15"
   ]
  },
  {
   "cell_type": "code",
   "execution_count": 264,
   "id": "fdc81f25",
   "metadata": {},
   "outputs": [
    {
     "data": {
      "text/html": [
       "<div>                            <div id=\"ac18aabc-7d52-4c88-a9e0-f927d43fc731\" class=\"plotly-graph-div\" style=\"height:500px; width:900px;\"></div>            <script type=\"text/javascript\">                require([\"plotly\"], function(Plotly) {                    window.PLOTLYENV=window.PLOTLYENV || {};                                    if (document.getElementById(\"ac18aabc-7d52-4c88-a9e0-f927d43fc731\")) {                    Plotly.newPlot(                        \"ac18aabc-7d52-4c88-a9e0-f927d43fc731\",                        [{\"alignmentgroup\":\"True\",\"hovertemplate\":\"variable=electric_consumption<br>index=%{x}<br>value=%{y}<extra></extra>\",\"legendgroup\":\"electric_consumption\",\"marker\":{\"color\":\"#1F77B4\",\"pattern\":{\"shape\":\"\"}},\"name\":\"\\u044d\\u043b\\u0435\\u043a\\u0442\\u0440\\u043e\\u043f\\u043e\\u0442\\u0440\\u0435\\u0431\\u043b\\u0435\\u043d\\u0438\\u0435\",\"offsetgroup\":\"electric_consumption\",\"orientation\":\"v\",\"showlegend\":true,\"textposition\":\"auto\",\"x\":[360,361,362,363,364,365,366,367,368,369,370,371,372,373,374,375,376,377,378,379,380,381,382,383],\"xaxis\":\"x\",\"y\":[-12.900876314939705,-13.598411263498486,-14.642441933699585,-15.444551812661796,-15.873342362236658,-15.668344989016115,-16.946690953347893,-18.8454681623019,-54.57568304954253,-56.61028986784014,-74.76574030498763,-84.18332951468994,-63.7958374558156,-56.692737855555556,-51.56970711333334,-49.39617024444445,-29.778083980883892,-11.6946691638571,-8.907534238372662,-14.231858629953853,-15.178966976744919,-14.744796704686957,-14.213332621295802,-16.483233224985977],\"yaxis\":\"y\",\"type\":\"bar\"},{\"alignmentgroup\":\"True\",\"hovertemplate\":\"variable=solar_gen<br>index=%{x}<br>value=%{y}<extra></extra>\",\"legendgroup\":\"solar_gen\",\"marker\":{\"color\":\"#FF7F0E\",\"pattern\":{\"shape\":\"\"}},\"name\":\"\\u043f\\u0440\\u043e\\u0438\\u0437\\u0432\\u043e\\u0434\\u0441\\u0442\\u0432\\u043e \\u0441\\u043e\\u043b\\u043d\\u0435\\u0447\\u043d\\u043e\\u0439 \\u044d\\u043d\\u0435\\u0440\\u0433\\u0438\\u0438\",\"offsetgroup\":\"solar_gen\",\"orientation\":\"v\",\"showlegend\":true,\"textposition\":\"auto\",\"x\":[360,361,362,363,364,365,366,367,368,369,370,371,372,373,374,375,376,377,378,379,380,381,382,383],\"xaxis\":\"x\",\"y\":[0.0,0.0,0.0,0.0,0.0,0.0,0.0,0.0,31.10808,55.46748,73.72295999999999,84.01104,87.30444,84.77928,72.97439999999999,54.22668,27.06996,6.077952,0.0,0.0,0.0,0.0,0.0,0.0],\"yaxis\":\"y\",\"type\":\"bar\"},{\"alignmentgroup\":\"True\",\"hovertemplate\":\"variable=net_electric_consumption<br>index=%{x}<br>value=%{y}<extra></extra>\",\"legendgroup\":\"net_electric_consumption\",\"marker\":{\"color\":\"#2CA02C\",\"pattern\":{\"shape\":\"\"}},\"name\":\"\\u0441\\u0435\\u0442\\u0435\\u0432\\u043e\\u0435 \\u044d\\u043b\\u0435\\u043a\\u0442\\u0440\\u043e\\u043f\\u043e\\u0442\\u0440\\u0435\\u0431\\u043b\\u0435\\u043d\\u0438\\u0435\",\"offsetgroup\":\"net_electric_consumption\",\"orientation\":\"v\",\"showlegend\":true,\"textposition\":\"auto\",\"x\":[360,361,362,363,364,365,366,367,368,369,370,371,372,373,374,375,376,377,378,379,380,381,382,383],\"xaxis\":\"x\",\"y\":[12.8504,13.5489,14.594,15.3973,15.8273,15.6235,14.67831198578451,9.239020332732226,23.467506917952043,-0.7461,-0.7461,-0.7463,-23.2497,-28.086542144444444,-23.4913,-7.038,-5.192577241565548,-20.069600692285796,-2.2880603183298422,8.012774460201118,12.821583665653494,13.504037852763307,12.773331897918716,16.4832],\"yaxis\":\"y\",\"type\":\"bar\"},{\"alignmentgroup\":\"True\",\"hovertemplate\":\"variable=electrical_storage<br>index=%{x}<br>value=%{y}<extra></extra>\",\"legendgroup\":\"electrical_storage\",\"marker\":{\"color\":\"#D62728\",\"pattern\":{\"shape\":\"\"}},\"name\":\"\\u043c\\u043e\\u0449\\u043d\\u043e\\u0441\\u0442\\u044c \\u044d\\u043b\\u0435\\u043a\\u0442\\u0440\\u0438\\u0447\\u0435\\u0441\\u043a\\u043e\\u0433\\u043e \\u043d\\u0430\\u043a\\u043e\\u043f\\u0438\\u0442\\u0435\\u043b\\u044f\",\"offsetgroup\":\"electrical_storage\",\"orientation\":\"v\",\"showlegend\":true,\"textposition\":\"auto\",\"x\":[360,361,362,363,364,365,366,367,368,369,370,371,372,373,374,375,376,377,378,379,380,381,382,383],\"xaxis\":\"x\",\"y\":[-4.551534482644115e-07,-0.9094799047974274,-0.5356012441680367,-0.7299913218808527,-1.5111586917608868,-2.18863975829999,2.2683789675633825,9.606447829569673,9.613159048704743e-05,-5.238067645617921,-19.00351808276541,-25.91142706024551,-9.846987211371157,0.0,0.0,0.0,7.900701222449442,25.686317856142896,11.195594556702504,6.219084169752735,2.357383311091425,1.2407588519236494,1.4400007233770866,-2.039899836357262],\"yaxis\":\"y\",\"type\":\"bar\"},{\"alignmentgroup\":\"True\",\"hovertemplate\":\"variable=PGU<br>index=%{x}<br>value=%{y}<extra></extra>\",\"legendgroup\":\"PGU\",\"marker\":{\"color\":\"#9467BD\",\"pattern\":{\"shape\":\"\"}},\"name\":\"\\u044d\\u043b\\u0435\\u043a\\u0442\\u0440\\u043e\\u044d\\u043d\\u0435\\u0440\\u0433\\u0438\\u044f \\u043a\\u043e\\u0433\\u0435\\u043d\\u0435\\u0440\\u0430\\u0446\\u0438\\u0438\",\"offsetgroup\":\"PGU\",\"orientation\":\"v\",\"showlegend\":true,\"textposition\":\"auto\",\"x\":[360,361,362,363,364,365,366,367,368,369,370,371,372,373,374,375,376,377,378,379,380,381,382,383],\"xaxis\":\"x\",\"y\":[0.050476770093152545,0.9589911682959134,0.5840431778676223,0.7772431345426494,1.5572010539975452,2.233484747316105,-0.0,-0.0,1.7763703919274065e-15,7.126977513458057,20.792398387753053,26.830016574935463,9.58808466718676,-0.0,2.086607113333347,2.207490244444447,-0.0,-0.0,-0.0,-0.0,-0.0,-0.0,0.0,2.0399330613432385],\"yaxis\":\"y\",\"type\":\"bar\"}],                        {\"template\":{\"data\":{\"scatter\":[{\"type\":\"scatter\"}]}},\"xaxis\":{\"anchor\":\"y\",\"domain\":[0.0,1.0],\"title\":{\"text\":\"index\"}},\"yaxis\":{\"anchor\":\"x\",\"domain\":[0.0,1.0],\"title\":{\"text\":\"value\"}},\"legend\":{\"title\":{\"text\":\"variable\"},\"tracegroupgap\":0},\"margin\":{\"t\":60},\"barmode\":\"relative\",\"width\":900,\"height\":500},                        {\"responsive\": true}                    ).then(function(){\n",
       "                            \n",
       "var gd = document.getElementById('ac18aabc-7d52-4c88-a9e0-f927d43fc731');\n",
       "var x = new MutationObserver(function (mutations, observer) {{\n",
       "        var display = window.getComputedStyle(gd).display;\n",
       "        if (!display || display === 'none') {{\n",
       "            console.log([gd, 'removed!']);\n",
       "            Plotly.purge(gd);\n",
       "            observer.disconnect();\n",
       "        }}\n",
       "}});\n",
       "\n",
       "// Listen for the removal of the full notebook cells\n",
       "var notebookContainer = gd.closest('#notebook-container');\n",
       "if (notebookContainer) {{\n",
       "    x.observe(notebookContainer, {childList: true});\n",
       "}}\n",
       "\n",
       "// Listen for the clearing of the current output cell\n",
       "var outputEl = gd.closest('.output');\n",
       "if (outputEl) {{\n",
       "    x.observe(outputEl, {childList: true});\n",
       "}}\n",
       "\n",
       "                        })                };                });            </script>        </div>"
      ]
     },
     "metadata": {},
     "output_type": "display_data"
    }
   ],
   "source": [
    "dat = df3[df3.method == 'RL'][['electric_consumption',\n",
    "                                'solar_gen','net_electric_consumption','electrical_storage','PGU']][k:k+24]\n",
    "fig = px.bar(data_frame=dat,template=template)\n",
    "fig.update_layout(width=900, height=500, barmode=\"relative\")\n",
    "newnames = {'electric_consumption':'электропотребление','solar_gen':'производство солнечной энергии',\n",
    "           'net_electric_consumption':'сетевое электропотребление',\n",
    "            'electrical_storage':'мощность электрического накопителя','PGU':'электроэнергия когенерации'}\n",
    "fig.for_each_trace(lambda t: t.update(name = newnames[t.name]))"
   ]
  },
  {
   "cell_type": "code",
   "execution_count": 265,
   "id": "196ab1cf",
   "metadata": {},
   "outputs": [
    {
     "data": {
      "text/html": [
       "<div>                            <div id=\"e3a287ce-4864-478f-b272-3c91924ade40\" class=\"plotly-graph-div\" style=\"height:500px; width:900px;\"></div>            <script type=\"text/javascript\">                require([\"plotly\"], function(Plotly) {                    window.PLOTLYENV=window.PLOTLYENV || {};                                    if (document.getElementById(\"e3a287ce-4864-478f-b272-3c91924ade40\")) {                    Plotly.newPlot(                        \"e3a287ce-4864-478f-b272-3c91924ade40\",                        [{\"alignmentgroup\":\"True\",\"hovertemplate\":\"variable=electrical_storage_soc<br>index=%{x}<br>value=%{y}<extra></extra>\",\"legendgroup\":\"electrical_storage_soc\",\"marker\":{\"color\":\"#1F77B4\",\"pattern\":{\"shape\":\"\"}},\"name\":\"\\u0437\\u0430\\u0440\\u044f\\u0434 \\u044d\\u043b\\u0435\\u043a\\u0442\\u0440\\u0438\\u0447\\u0435\\u0441\\u043a\\u043e\\u0433\\u043e \\u043d\\u0430\\u043a\\u043e\\u043f\\u0438\\u0442\\u0435\\u043b\\u044f\",\"offsetgroup\":\"electrical_storage_soc\",\"orientation\":\"v\",\"showlegend\":true,\"textposition\":\"auto\",\"x\":[360,361,362,363,364,365,366,367,368,369,370,371,372,373,374,375,376,377,378,379,380,381,382,383],\"xaxis\":\"x\",\"y\":[6.000052007816349,6.909531912613776,7.445133156781813,8.175124478662665,9.686283170423552,11.874922928723542,9.60654396116016,9.613159048704743e-05,0.0,5.238067645617921,24.24158572838333,50.15301278862884,60.0,60.0,60.0,60.0,52.09929877755056,26.412980921407662,15.217386364705158,8.998302194952423,6.640918883860998,5.400160031937348,3.9601593085602618,6.000059144917524],\"yaxis\":\"y\",\"type\":\"bar\"}],                        {\"template\":{\"data\":{\"scatter\":[{\"type\":\"scatter\"}]}},\"xaxis\":{\"anchor\":\"y\",\"domain\":[0.0,1.0],\"title\":{\"text\":\"index\"}},\"yaxis\":{\"anchor\":\"x\",\"domain\":[0.0,1.0],\"title\":{\"text\":\"value\"}},\"legend\":{\"title\":{\"text\":\"variable\"},\"tracegroupgap\":0},\"margin\":{\"t\":60},\"barmode\":\"relative\",\"width\":900,\"height\":500},                        {\"responsive\": true}                    ).then(function(){\n",
       "                            \n",
       "var gd = document.getElementById('e3a287ce-4864-478f-b272-3c91924ade40');\n",
       "var x = new MutationObserver(function (mutations, observer) {{\n",
       "        var display = window.getComputedStyle(gd).display;\n",
       "        if (!display || display === 'none') {{\n",
       "            console.log([gd, 'removed!']);\n",
       "            Plotly.purge(gd);\n",
       "            observer.disconnect();\n",
       "        }}\n",
       "}});\n",
       "\n",
       "// Listen for the removal of the full notebook cells\n",
       "var notebookContainer = gd.closest('#notebook-container');\n",
       "if (notebookContainer) {{\n",
       "    x.observe(notebookContainer, {childList: true});\n",
       "}}\n",
       "\n",
       "// Listen for the clearing of the current output cell\n",
       "var outputEl = gd.closest('.output');\n",
       "if (outputEl) {{\n",
       "    x.observe(outputEl, {childList: true});\n",
       "}}\n",
       "\n",
       "                        })                };                });            </script>        </div>"
      ]
     },
     "metadata": {},
     "output_type": "display_data"
    }
   ],
   "source": [
    "dat = df3[df3.method == 'RL'][['electrical_storage_soc']][k:k+24]\n",
    "fig = px.bar(data_frame=dat,template=template)\n",
    "fig.update_layout(width=900, height=500, barmode=\"relative\")\n",
    "newnames = {'electrical_storage_soc':'заряд электрического накопителя'}\n",
    "fig.for_each_trace(lambda t: t.update(name = newnames[t.name]))"
   ]
  },
  {
   "cell_type": "code",
   "execution_count": 267,
   "id": "e0fe0082",
   "metadata": {},
   "outputs": [
    {
     "data": {
      "text/html": [
       "<div>                            <div id=\"8050b78f-535d-4f6d-80d2-f2b17a55eb73\" class=\"plotly-graph-div\" style=\"height:500px; width:900px;\"></div>            <script type=\"text/javascript\">                require([\"plotly\"], function(Plotly) {                    window.PLOTLYENV=window.PLOTLYENV || {};                                    if (document.getElementById(\"8050b78f-535d-4f6d-80d2-f2b17a55eb73\")) {                    Plotly.newPlot(                        \"8050b78f-535d-4f6d-80d2-f2b17a55eb73\",                        [{\"alignmentgroup\":\"True\",\"hovertemplate\":\"variable=dhw_consumption<br>index=%{x}<br>value=%{y}<extra></extra>\",\"legendgroup\":\"dhw_consumption\",\"marker\":{\"color\":\"#1F77B4\",\"pattern\":{\"shape\":\"\"}},\"name\":\"\\u0442\\u0435\\u043f\\u043b\\u043e\\u043f\\u043e\\u0442\\u0440\\u0435\\u0431\\u043b\\u0435\\u043d\\u0438\\u044f\",\"offsetgroup\":\"dhw_consumption\",\"orientation\":\"v\",\"showlegend\":true,\"textposition\":\"auto\",\"x\":[360,361,362,363,364,365,366,367,368,369,370,371,372,373,374,375,376,377,378,379,380,381,382,383],\"xaxis\":\"x\",\"y\":[-0.0,-0.0,-0.0,-0.0,-0.0,-0.0,-0.67,-1.82,-3.35,-3.64,-3.73,-4.43,-5.33,-5.05,-3.18,-3.08,-4.11,-2.43,-1.96,-1.39,-1.58,-0.77,-0.48,-0.48],\"yaxis\":\"y\",\"type\":\"bar\"},{\"alignmentgroup\":\"True\",\"hovertemplate\":\"variable=PGU_TERMAL<br>index=%{x}<br>value=%{y}<extra></extra>\",\"legendgroup\":\"PGU_TERMAL\",\"marker\":{\"color\":\"#FF7F0E\",\"pattern\":{\"shape\":\"\"}},\"name\":\"\\u0442\\u0435\\u043f\\u043b\\u043e\\u044d\\u043d\\u0435\\u0440\\u0433\\u0438\\u044f \\u043a\\u043e\\u0433\\u0435\\u043d\\u0435\\u0440\\u0430\\u0446\\u0438\\u0438\",\"offsetgroup\":\"PGU_TERMAL\",\"orientation\":\"v\",\"showlegend\":true,\"textposition\":\"auto\",\"x\":[360,361,362,363,364,365,366,367,368,369,370,371,372,373,374,375,376,377,378,379,380,381,382,383],\"xaxis\":\"x\",\"y\":[0.005047677009315255,0.09589911682959133,0.05840431778676223,0.07772431345426493,0.1557201053997545,0.22334847473161049,0.67,1.4328621963422072,3.090600631509859,4.352697751345806,5.809239838775305,7.113001657493546,6.288808466718676,5.05,3.3886607113333347,3.300749024444445,0.0,0.0,0.7519079577838252,1.1679242598679656,0.8693576295263552,0.77,0.48,0.6839933061343239],\"yaxis\":\"y\",\"type\":\"bar\"},{\"alignmentgroup\":\"True\",\"hovertemplate\":\"variable=termal_storage<br>index=%{x}<br>value=%{y}<extra></extra>\",\"legendgroup\":\"termal_storage\",\"marker\":{\"color\":\"#2CA02C\",\"pattern\":{\"shape\":\"\"}},\"name\":\"\\u043c\\u043e\\u0449\\u043d\\u043e\\u0441\\u0442\\u044c \\u0442\\u0435\\u043f\\u043b\\u043e\\u0432\\u043e\\u0433\\u043e \\u043d\\u0430\\u043a\\u043e\\u043f\\u0438\\u0442\\u0435\\u043b\\u044f\",\"offsetgroup\":\"termal_storage\",\"orientation\":\"v\",\"showlegend\":true,\"textposition\":\"auto\",\"x\":[360,361,362,363,364,365,366,367,368,369,370,371,372,373,374,375,376,377,378,379,380,381,382,383],\"xaxis\":\"x\",\"y\":[-1.2590381509971008e-07,-1.620481547650026e-05,-2.142878919669973e-05,-1.3485514247001465e-06,-3.604714097400069e-06,-3.265682225559981e-05,-0.6451714469100749,0.3871378036577928,0.2593993684901413,-1.6999999999999997,-1.6099999999999997,-0.9100000000000001,-0.009999999999999787,-0.29000000000000004,-2.160000000000001,-2.259999999999999,4.11,2.43,1.208092042216175,0.22207574013203435,0.7106423704736448,-4.723206825651971e-10,-5.0865673895117425e-09,-2.4848761492890503e-08],\"yaxis\":\"y\",\"type\":\"bar\"},{\"alignmentgroup\":\"True\",\"hovertemplate\":\"variable=Boiler<br>index=%{x}<br>value=%{y}<extra></extra>\",\"legendgroup\":\"Boiler\",\"marker\":{\"color\":\"#D62728\",\"pattern\":{\"shape\":\"\"}},\"name\":\"\\u0431\\u043e\\u0439\\u043b\\u0435\\u0440\",\"offsetgroup\":\"Boiler\",\"orientation\":\"v\",\"showlegend\":true,\"textposition\":\"auto\",\"x\":[360,361,362,363,364,365,366,367,368,369,370,371,372,373,374,375,376,377,378,379,380,381,382,383],\"xaxis\":\"x\",\"y\":[0.0,0.0,0.0,0.0,0.0,0.0,0.6451714469100749,-0.0,0.0,0.9873022486541938,0.0,0.0,0.0,0.29000000000000004,1.9513392886666665,2.039250975555554,-0.0,-0.0,0.0,-0.0,1.1102230246251565e-16,4.723206825651971e-10,5.0865673895117425e-09,0.0],\"yaxis\":\"y\",\"type\":\"bar\"}],                        {\"template\":{\"data\":{\"scatter\":[{\"type\":\"scatter\"}]}},\"xaxis\":{\"anchor\":\"y\",\"domain\":[0.0,1.0],\"title\":{\"text\":\"index\"}},\"yaxis\":{\"anchor\":\"x\",\"domain\":[0.0,1.0],\"title\":{\"text\":\"value\"}},\"legend\":{\"title\":{\"text\":\"variable\"},\"tracegroupgap\":0},\"margin\":{\"t\":60},\"barmode\":\"relative\",\"width\":900,\"height\":500},                        {\"responsive\": true}                    ).then(function(){\n",
       "                            \n",
       "var gd = document.getElementById('8050b78f-535d-4f6d-80d2-f2b17a55eb73');\n",
       "var x = new MutationObserver(function (mutations, observer) {{\n",
       "        var display = window.getComputedStyle(gd).display;\n",
       "        if (!display || display === 'none') {{\n",
       "            console.log([gd, 'removed!']);\n",
       "            Plotly.purge(gd);\n",
       "            observer.disconnect();\n",
       "        }}\n",
       "}});\n",
       "\n",
       "// Listen for the removal of the full notebook cells\n",
       "var notebookContainer = gd.closest('#notebook-container');\n",
       "if (notebookContainer) {{\n",
       "    x.observe(notebookContainer, {childList: true});\n",
       "}}\n",
       "\n",
       "// Listen for the clearing of the current output cell\n",
       "var outputEl = gd.closest('.output');\n",
       "if (outputEl) {{\n",
       "    x.observe(outputEl, {childList: true});\n",
       "}}\n",
       "\n",
       "                        })                };                });            </script>        </div>"
      ]
     },
     "metadata": {},
     "output_type": "display_data"
    }
   ],
   "source": [
    "dat = df3[df3.method == 'RL'][['dhw_consumption','PGU_TERMAL','termal_storage','Boiler']][k:k+24]\n",
    "fig = px.bar(data_frame=dat,template=template)\n",
    "fig.update_layout(width=900, height=500, barmode=\"relative\")\n",
    "newnames = {'dhw_consumption':'теплопотребления','Boiler':'бойлер',\n",
    "           'net_electric_consumption':'сетевое электропотребление',\n",
    "            'termal_storage':'мощность теплового накопителя','PGU_TERMAL':'теплоэнергия когенерации'}\n",
    "fig.for_each_trace(lambda t: t.update(name = newnames[t.name]))"
   ]
  },
  {
   "cell_type": "code",
   "execution_count": 268,
   "id": "44a90e7f",
   "metadata": {},
   "outputs": [
    {
     "data": {
      "text/html": [
       "<div>                            <div id=\"e1f52ba1-66cc-40e8-8b5e-457c551d078f\" class=\"plotly-graph-div\" style=\"height:500px; width:900px;\"></div>            <script type=\"text/javascript\">                require([\"plotly\"], function(Plotly) {                    window.PLOTLYENV=window.PLOTLYENV || {};                                    if (document.getElementById(\"e1f52ba1-66cc-40e8-8b5e-457c551d078f\")) {                    Plotly.newPlot(                        \"e1f52ba1-66cc-40e8-8b5e-457c551d078f\",                        [{\"alignmentgroup\":\"True\",\"hovertemplate\":\"variable=dhw_storage_soc<br>index=%{x}<br>value=%{y}<extra></extra>\",\"legendgroup\":\"dhw_storage_soc\",\"marker\":{\"color\":\"#1F77B4\",\"pattern\":{\"shape\":\"\"}},\"name\":\"\\u0437\\u0430\\u0440\\u044f\\u0434 \\u0442\\u0435\\u043f\\u043b\\u043e\\u0432\\u043e\\u0433\\u043e \\u043d\\u0430\\u043a\\u043e\\u043f\\u0438\\u0442\\u0435\\u043b\\u044f\",\"offsetgroup\":\"dhw_storage_soc\",\"orientation\":\"v\",\"showlegend\":true,\"textposition\":\"auto\",\"x\":[360,361,362,363,364,365,366,367,368,369,370,371,372,373,374,375,376,377,378,379,380,381,382,383],\"xaxis\":\"x\",\"y\":[0.0033824082388364,0.0033986130543129,0.0034200418435096,0.0034213903949343,0.0034249951090317,0.0034576519312873,0.6486290988413622,0.2614912951835694,0.0020919266934281,1.7020919266934278,3.3120919266934274,4.222091926693428,4.232091926693427,4.522091926693427,6.682091926693428,8.942091926693427,4.832091926693427,2.402091926693427,1.193999884477252,0.9719241443452176,0.2612817738715728,0.2612817743438935,0.2612817794304609,0.2612818042792224],\"yaxis\":\"y\",\"type\":\"bar\"}],                        {\"template\":{\"data\":{\"scatter\":[{\"type\":\"scatter\"}]}},\"xaxis\":{\"anchor\":\"y\",\"domain\":[0.0,1.0],\"title\":{\"text\":\"index\"}},\"yaxis\":{\"anchor\":\"x\",\"domain\":[0.0,1.0],\"title\":{\"text\":\"value\"}},\"legend\":{\"title\":{\"text\":\"variable\"},\"tracegroupgap\":0},\"margin\":{\"t\":60},\"barmode\":\"relative\",\"width\":900,\"height\":500},                        {\"responsive\": true}                    ).then(function(){\n",
       "                            \n",
       "var gd = document.getElementById('e1f52ba1-66cc-40e8-8b5e-457c551d078f');\n",
       "var x = new MutationObserver(function (mutations, observer) {{\n",
       "        var display = window.getComputedStyle(gd).display;\n",
       "        if (!display || display === 'none') {{\n",
       "            console.log([gd, 'removed!']);\n",
       "            Plotly.purge(gd);\n",
       "            observer.disconnect();\n",
       "        }}\n",
       "}});\n",
       "\n",
       "// Listen for the removal of the full notebook cells\n",
       "var notebookContainer = gd.closest('#notebook-container');\n",
       "if (notebookContainer) {{\n",
       "    x.observe(notebookContainer, {childList: true});\n",
       "}}\n",
       "\n",
       "// Listen for the clearing of the current output cell\n",
       "var outputEl = gd.closest('.output');\n",
       "if (outputEl) {{\n",
       "    x.observe(outputEl, {childList: true});\n",
       "}}\n",
       "\n",
       "                        })                };                });            </script>        </div>"
      ]
     },
     "metadata": {},
     "output_type": "display_data"
    }
   ],
   "source": [
    "dat = df3[df3.method == 'RL'][['dhw_storage_soc']][k:k+24]\n",
    "fig = px.bar(data_frame=dat,template=template)\n",
    "fig.update_layout(width=900, height=500, barmode=\"relative\")\n",
    "newnames = {'dhw_storage_soc':'заряд теплового накопителя'}\n",
    "fig.for_each_trace(lambda t: t.update(name = newnames[t.name]))"
   ]
  },
  {
   "cell_type": "code",
   "execution_count": null,
   "id": "635d9438",
   "metadata": {},
   "outputs": [],
   "source": []
  }
 ],
 "metadata": {
  "kernelspec": {
   "display_name": "Python 3",
   "language": "python",
   "name": "python3"
  },
  "language_info": {
   "codemirror_mode": {
    "name": "ipython",
    "version": 3
   },
   "file_extension": ".py",
   "mimetype": "text/x-python",
   "name": "python",
   "nbconvert_exporter": "python",
   "pygments_lexer": "ipython3",
   "version": "3.8.16"
  }
 },
 "nbformat": 4,
 "nbformat_minor": 5
}
